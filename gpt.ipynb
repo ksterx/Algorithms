{
 "cells": [
  {
   "cell_type": "code",
   "execution_count": null,
   "id": "3d2563ef-1d2a-488a-88ff-2eec0457dcdc",
   "metadata": {
    "tags": []
   },
   "outputs": [],
   "source": [
    "import torch"
   ]
  },
  {
   "cell_type": "markdown",
   "id": "ad17c5c3-84c9-4890-8c6c-2f8bae82ab0f",
   "metadata": {},
   "source": [
    "# Preprocessing"
   ]
  },
  {
   "cell_type": "code",
   "execution_count": null,
   "id": "1eb0e74c-c4d3-422a-9b92-184d16d9f68b",
   "metadata": {
    "tags": []
   },
   "outputs": [],
   "source": [
    "class SSData:\n",
    "    block_size = 8\n",
    "    batch_size = 4\n",
    "    \n",
    "    def __init__(self):\n",
    "        with open(\"shakespeare.txt\", encoding=\"utf-8\") as f:\n",
    "            self.text = f.read()\n",
    "            \n",
    "        self.chars = sorted(list(set(text)))\n",
    "        self.num_chars = len(chars)\n",
    "        self.encoded_text = torch.tensor(self.encode(self.text), dtype=torch.long)\n",
    "        n = int(len(t)*0.9)\n",
    "        self.train_data = self.encoded_text[:n]\n",
    "        self.val_data = self.encoded_text[n:]\n",
    "        \n",
    "    def encode(self, text):\n",
    "        string_to_num = {char: i for i, char in enumerate(self.chars)}\n",
    "        func =  lambda strings: [string_to_num[s] for s in strings]\n",
    "        return func(text)\n",
    "\n",
    "    def decode(self, ints):\n",
    "        if isinstance(ints, torch.Tensor):\n",
    "            nums = torch.cat((ints, torch.zeros(self.batch_size, 1)), dim=1, dtype=torch.long).flatten().tolist()\n",
    "            print(nums)\n",
    "        num_to_string = {i: char for i, char in enumerate(self.chars)}\n",
    "        print(num_to_string)\n",
    "        func =  lambda nums: \"\".join([num_to_string[i] for i in nums])\n",
    "        return func(ints)\n",
    "\n",
    "    def get_batch(self, split):\n",
    "        data = self.train_data if split == \"train\" else self.val_data\n",
    "        start_idxs = torch.randint(len(data) - self.block_size, (self.batch_size,))\n",
    "        print(start_idxs)\n",
    "        x = torch.stack([data[start_idx: start_idx + self.block_size] for start_idx in start_idxs])\n",
    "        y = torch.stack([data[start_idx+1: start_idx + self.block_size + 1] for start_idx in start_idxs])\n",
    "        return x, y\n",
    "    \n",
    "    def get_input_and_next(self, x, y, idx):\n",
    "        inputs = x[:idx+1]\n",
    "        targets = y[idx]\n",
    "        print(f\"inputs: {inputs}\\ntargets: {targets}\")\n",
    "        "
   ]
  },
  {
   "cell_type": "code",
   "execution_count": null,
   "id": "42b3ea9a-764c-4193-8bd3-650c353ef5e6",
   "metadata": {
    "tags": []
   },
   "outputs": [],
   "source": [
    "data = SSData()"
   ]
  },
  {
   "cell_type": "code",
   "execution_count": null,
   "id": "b4b6cd91-d6fb-4025-9aed-bc2739fba796",
   "metadata": {
    "tags": []
   },
   "outputs": [],
   "source": [
    "x, y = data.get_batch(\"train\")\n",
    "data.decode(x)"
   ]
  },
  {
   "cell_type": "code",
   "execution_count": null,
   "id": "84b6a7b5-4fb0-4de0-953a-7de5c6ec9719",
   "metadata": {
    "tags": []
   },
   "outputs": [],
   "source": [
    "ss.get_input_and_next(x, y, 0)"
   ]
  },
  {
   "cell_type": "code",
   "execution_count": null,
   "id": "89a1c95e-8c33-4176-a5a5-f950f91a46be",
   "metadata": {
    "tags": []
   },
   "outputs": [],
   "source": [
    "ss.encode(\"\\n\")"
   ]
  },
  {
   "cell_type": "code",
   "execution_count": null,
   "id": "38f89b6f-2d94-48af-b9f7-371e2e4bc0e7",
   "metadata": {},
   "outputs": [],
   "source": []
  }
 ],
 "metadata": {
  "kernelspec": {
   "display_name": "Python 3 (ipykernel)",
   "language": "python",
   "name": "python3"
  },
  "language_info": {
   "codemirror_mode": {
    "name": "ipython",
    "version": 3
   },
   "file_extension": ".py",
   "mimetype": "text/x-python",
   "name": "python",
   "nbconvert_exporter": "python",
   "pygments_lexer": "ipython3",
   "version": "3.8.15"
  }
 },
 "nbformat": 4,
 "nbformat_minor": 5
}
